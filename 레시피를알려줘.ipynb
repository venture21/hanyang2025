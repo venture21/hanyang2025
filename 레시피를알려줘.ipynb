{
  "nbformat": 4,
  "nbformat_minor": 0,
  "metadata": {
    "colab": {
      "provenance": [],
      "include_colab_link": true
    },
    "kernelspec": {
      "name": "python3",
      "display_name": "Python 3"
    },
    "language_info": {
      "name": "python"
    }
  },
  "cells": [
    {
      "cell_type": "markdown",
      "metadata": {
        "id": "view-in-github",
        "colab_type": "text"
      },
      "source": [
        "<a href=\"https://colab.research.google.com/github/venture21/hanyang2025/blob/main/%EB%A0%88%EC%8B%9C%ED%94%BC%EB%A5%BC%EC%95%8C%EB%A0%A4%EC%A4%98.ipynb\" target=\"_parent\"><img src=\"https://colab.research.google.com/assets/colab-badge.svg\" alt=\"Open In Colab\"/></a>"
      ]
    },
    {
      "cell_type": "code",
      "execution_count": null,
      "metadata": {
        "id": "0fzq6a6hK-iN"
      },
      "outputs": [],
      "source": [
        "# import os\n",
        "# import google.generativeai as genai\n",
        "\n",
        "# from google.colab import userdata\n",
        "\n",
        "# # gemini 모델을 사용하기 전에 인증키를 설정\n",
        "# myKey = userdata.get('GOOGLE_AI_STUDIO')\n",
        "# genai.configure(api_key=myKey)\n",
        "\n",
        "\n",
        "# def upload_to_gemini(path, mime_type=None):\n",
        "#   \"\"\"Uploads the given file to Gemini.\n",
        "\n",
        "#   See https://ai.google.dev/gemini-api/docs/prompting_with_media\n",
        "#   \"\"\"\n",
        "#   file = genai.upload_file(path, mime_type=mime_type)\n",
        "#   print(f\"Uploaded file '{file.display_name}' as: {file.uri}\")\n",
        "#   return file\n",
        "\n",
        "# # Create the model\n",
        "# generation_config = {\n",
        "#   \"temperature\": 1,\n",
        "#   \"top_p\": 0.95,\n",
        "#   \"top_k\": 40,\n",
        "#   \"max_output_tokens\": 8192,\n",
        "#   \"response_mime_type\": \"text/plain\",\n",
        "# }\n",
        "\n",
        "# model = genai.GenerativeModel(\n",
        "#   model_name=\"gemini-2.0-flash-exp\",\n",
        "#   generation_config=generation_config,\n",
        "# )\n",
        "\n",
        "# # TODO Make these files available on the local file system\n",
        "# # You may need to update the file paths\n",
        "# files = [\n",
        "#   upload_to_gemini(\"/content/라면.png\", mime_type=\"application/octet-stream\"),\n",
        "#   upload_to_gemini(\"/content/제육볶음.png\", mime_type=\"application/octet-stream\"),\n",
        "# ]\n",
        "\n",
        "# response = model.generate_content([\n",
        "#   \"음식이미지를 입력하면 레시피를 출력해줘.\",\n",
        "#   \"input: \",\n",
        "#   files[0],\n",
        "#   \"output: 메뉴명: 라면\\n\\n재료:\\n라면 1개\\n대파 1/2개\\n계란 1개\\n\\n조리순서:\\n1. 대파를 너무 두껍지 않게 썰어 줍니다.\\n2. 계란은 풀어서 준비해 둡니다.\\n3. 냄비에 물550ml를 넣고 후레이크,스프를 넣어줍니다.\\n4. 고명으로 쓸 대파를 조금 남겨두고 냄비에 대파를 넣어 주세요.\\n5. 물이 끓으면 면을 넣고 끓이다가 살짝 덜익었을때 그릇에 담아 둡니다.\\n6. 남겨진 라면 국물에 계란을 원을 그리듯 넣어 줍니다.\\n7. 라면에 국물을 넣어주고 대파를 마저 넣어주면 완성 입니다\",\n",
        "#   \"input: \",\n",
        "#   files[1],\n",
        "#   \"output: \",\n",
        "# ])\n",
        "\n",
        "# print(response.text)"
      ]
    },
    {
      "cell_type": "code",
      "source": [
        "|"
      ],
      "metadata": {
        "id": "b0gi7atIQqg4"
      },
      "execution_count": null,
      "outputs": []
    }
  ]
}